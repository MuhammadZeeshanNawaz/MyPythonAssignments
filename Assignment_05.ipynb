{
 "cells": [
  {
   "cell_type": "code",
   "execution_count": 1,
   "metadata": {},
   "outputs": [
    {
     "name": "stdout",
     "output_type": "stream",
     "text": [
      "Enter Number : 3\n",
      "Factorial :  6\n"
     ]
    }
   ],
   "source": [
    "#questin no 1:\n",
    "def factorial(a):\n",
    "    for i in range(1,a):\n",
    "        a = a*i\n",
    "    return a\n",
    "print(\"Factorial : \",factorial(int(input(\"Enter Number : \"))))"
   ]
  },
  {
   "cell_type": "code",
   "execution_count": 2,
   "metadata": {},
   "outputs": [
    {
     "name": "stdout",
     "output_type": "stream",
     "text": [
      "Give A String To Evaluate : ZeeshaN\n",
      "Number of Upper Case : 2\n",
      "Number of Lower Case : 5\n"
     ]
    }
   ],
   "source": [
    "#question no 2:\n",
    "def evaluate(a):\n",
    "    upCase = 0\n",
    "    lowCase = 0\n",
    "    for char in a:\n",
    "        if(char.isupper()):\n",
    "            upCase +=1\n",
    "        else:\n",
    "            lowCase +=1\n",
    "    print(\"Number of Upper Case :\", upCase)\n",
    "    print(\"Number of Lower Case :\", lowCase)\n",
    "evaluate(input(\"Give A String To Evaluate : \"))\n",
    "\n"
   ]
  },
  {
   "cell_type": "code",
   "execution_count": 3,
   "metadata": {},
   "outputs": [
    {
     "name": "stdout",
     "output_type": "stream",
     "text": [
      "2\n",
      "0\n",
      "6\n"
     ]
    }
   ],
   "source": [
    "#question no 3:\n",
    "a=[2,3,0,5,6]\n",
    "max_num=a[0]\n",
    "for i in range(0,len(a),1):\n",
    "    if (a[i]%2==0):\n",
    "        \n",
    "        \n",
    "        \n",
    "          print(a[i])"
   ]
  },
  {
   "cell_type": "code",
   "execution_count": 4,
   "metadata": {},
   "outputs": [
    {
     "name": "stdout",
     "output_type": "stream",
     "text": [
      "Enter a word for evaluation : 9\n",
      "Given Word  9  is a Palindrome\n"
     ]
    }
   ],
   "source": [
    "#question no 4:\n",
    "def isPalindrome(num):\n",
    "    num2 = num[::-1]\n",
    "    if(num == num2):\n",
    "        print(\"Given Word \", num,\" is a Palindrome\")\n",
    "    else:\n",
    "        print(\"Given Word \", num ,\" is NOT a Palindrome\")\n",
    "isPalindrome(input(\"Enter a word for evaluation : \"))"
   ]
  },
  {
   "cell_type": "code",
   "execution_count": 5,
   "metadata": {},
   "outputs": [
    {
     "name": "stdout",
     "output_type": "stream",
     "text": [
      "Enter to Number : 5\n",
      " Number  5  is a Prime Number..\n"
     ]
    }
   ],
   "source": [
    "#question no 5\n",
    "def isprime(number):\n",
    "    boolean = True;\n",
    "    for i in range(2,number-1):\n",
    "        if number % i == 0:\n",
    "            boolean = False\n",
    "            break\n",
    "    if boolean:\n",
    "        print(\" Number \", number ,\" is a Prime Number..\")\n",
    "    else:\n",
    "        print(\"Number \", number ,\" is NOT a Prime Number..\")\n",
    "isprime(int(input(\"Enter to Number : \")))"
   ]
  },
  {
   "cell_type": "code",
   "execution_count": 6,
   "metadata": {},
   "outputs": [
    {
     "name": "stdout",
     "output_type": "stream",
     "text": [
      "Items Bought by the user from market are \n",
      "lays\n",
      "Items Bought by the user from market are \n",
      "snaks\n",
      "kurkure\n",
      "Items Bought by the user from market are \n",
      "tuc\n",
      "dipndip\n",
      "paradise\n",
      "Items Bought by the user from market are \n",
      "Dairy Milk\n",
      "Nutella\n",
      "park\n",
      "Kitkat\n"
     ]
    }
   ],
   "source": [
    "#question no  6\n",
    "def shopping_items(*list1):\n",
    "    print(\"Items Bought by the user from market are \")\n",
    "    for i in list1:\n",
    "        print(i)\n",
    "shopping_items(\"lays\")\n",
    "shopping_items(\"snaks\", \"kurkure\")\n",
    "shopping_items(\"tuc\",\"dipndip\",\"paradise\")\n",
    "shopping_items(\"Dairy Milk\",\"Nutella\",\"park\",\"Kitkat\")"
   ]
  },
  {
   "cell_type": "code",
   "execution_count": null,
   "metadata": {},
   "outputs": [],
   "source": []
  }
 ],
 "metadata": {
  "kernelspec": {
   "display_name": "Python 3",
   "language": "python",
   "name": "python3"
  },
  "language_info": {
   "codemirror_mode": {
    "name": "ipython",
    "version": 3
   },
   "file_extension": ".py",
   "mimetype": "text/x-python",
   "name": "python",
   "nbconvert_exporter": "python",
   "pygments_lexer": "ipython3",
   "version": "3.7.4"
  }
 },
 "nbformat": 4,
 "nbformat_minor": 2
}
