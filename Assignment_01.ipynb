{
 "cells": [
  {
   "cell_type": "code",
   "execution_count": 1,
   "metadata": {},
   "outputs": [
    {
     "name": "stdout",
     "output_type": "stream",
     "text": [
      "Twinkle, twinkle, little star, \n",
      "\tHow I wonder what you are! \n",
      "\t\tUp above the world so high, \n",
      "\t\tLike a diamond in the sky. \n",
      "Twinkle, twinkle, little star \n",
      "\tHow I wonder what you are \n"
     ]
    }
   ],
   "source": [
    "print (\"Twinkle, twinkle, little star, \\n\\tHow I wonder what you are! \\n\\t\\tUp above the world so high, \\n\\t\\tLike a diamond in the sky. \\nTwinkle, twinkle, little star \\n\\tHow I wonder what you are \")"
   ]
  },
  {
   "cell_type": "code",
   "execution_count": 2,
   "metadata": {},
   "outputs": [
    {
     "name": "stdout",
     "output_type": "stream",
     "text": [
      "My Python Version is:\n",
      "3.7.4 (default, Aug 13 2019, 20:35:49) \n",
      "[GCC 7.3.0]\n"
     ]
    }
   ],
   "source": [
    "print (\"My Python Version is:\")\n",
    "import sys\n",
    "print (sys.version)"
   ]
  },
  {
   "cell_type": "code",
   "execution_count": 3,
   "metadata": {},
   "outputs": [
    {
     "name": "stdout",
     "output_type": "stream",
     "text": [
      "Current date and time :\n",
      "Sun Nov  3 20:23:00 2019\n"
     ]
    }
   ],
   "source": [
    "import time\n",
    "print (\"Current date and time :\")\n",
    "print(time.ctime())"
   ]
  },
  {
   "cell_type": "code",
   "execution_count": 4,
   "metadata": {},
   "outputs": [
    {
     "name": "stdout",
     "output_type": "stream",
     "text": [
      "Enter the radius of a circle\n",
      "2\n",
      "12.568\n"
     ]
    }
   ],
   "source": [
    "pie = 3.142\n",
    "print (\"Enter the radius of a circle\")\n",
    "radius = int(input())\n",
    "area = pie * (radius*radius)\n",
    "print (area)"
   ]
  },
  {
   "cell_type": "code",
   "execution_count": 1,
   "metadata": {},
   "outputs": [
    {
     "name": "stdout",
     "output_type": "stream",
     "text": [
      "Enter Your Name\n",
      "Muhammad\n",
      "Zeeshan\n",
      "Reversed name:  Zeeshan Muhammad\n"
     ]
    }
   ],
   "source": [
    "print (\"Enter Your Name\")\n",
    "fname = str(input())\n",
    "lname = str(input())\n",
    "\n",
    "print(\"Reversed name: \", lname, fname )"
   ]
  },
  {
   "cell_type": "code",
   "execution_count": 2,
   "metadata": {},
   "outputs": [
    {
     "name": "stdout",
     "output_type": "stream",
     "text": [
      "Enter Your First Number\n",
      "15\n",
      "Enter Your Second Number\n",
      "5\n",
      "Addition of your numbers is 20\n"
     ]
    }
   ],
   "source": [
    "print (\"Enter Your First Number\")\n",
    "a = int(input())\n",
    "print (\"Enter Your Second Number\")\n",
    "b = int(input())\n",
    "result = a + b\n",
    "print (\"Addition of your numbers is\",result)"
   ]
  }
 ],
 "metadata": {
  "kernelspec": {
   "display_name": "Python 3",
   "language": "python",
   "name": "python3"
  },
  "language_info": {
   "codemirror_mode": {
    "name": "ipython",
    "version": 3
   },
   "file_extension": ".py",
   "mimetype": "text/x-python",
   "name": "python",
   "nbconvert_exporter": "python",
   "pygments_lexer": "ipython3",
   "version": "3.7.4"
  }
 },
 "nbformat": 4,
 "nbformat_minor": 2
}
