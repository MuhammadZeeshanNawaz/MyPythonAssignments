{
 "cells": [
  {
   "cell_type": "code",
   "execution_count": 1,
   "metadata": {},
   "outputs": [
    {
     "name": "stdout",
     "output_type": "stream",
     "text": [
      "Enter Your Marks in Physics\n",
      "60\n",
      "Enter Your Marks in Maths\n",
      "50\n",
      "Enter Your Marks in Computer\n",
      "80\n",
      "You Secure grade B\n",
      "Your Total Marks is:  190\n",
      "Your Percentage is:  63.33 %\n"
     ]
    }
   ],
   "source": [
    "#question no 2:\n",
    "\n",
    "#Zeeshan Rizwan\n",
    "print (\"Enter Your Marks in Physics\")\n",
    "physics = int (input())\n",
    "print (\"Enter Your Marks in Maths\")\n",
    "maths = int (input())\n",
    "print (\"Enter Your Marks in Computer\")\n",
    "computer = int (input())\n",
    "\n",
    "\n",
    "result = physics + maths + computer\n",
    "result_1 = (result / 300) * 100\n",
    "if physics >= 0 and physics < 101 and maths >= 0 and maths < 101 and computer >= 0 and computer < 101:\n",
    "\n",
    "    if result_1 < 40 or physics < 40 or maths < 40 or computer < 40 :\n",
    "        print(\"You Secure grade F\")\n",
    "        print(\"Your Total Marks is: \",result)\n",
    "        print(\"Your Percentage is: \",round (result_1,2),\"%\")\n",
    "        \n",
    "    elif result_1 > 79 and result_1 < 101:\n",
    "        print(\"You Secure grade A+\")\n",
    "        print(\"Your Total Marks is: \",result)\n",
    "        print(\"Your Percentage is: \",round (result_1,2),\"%\")\n",
    "    \n",
    "    elif result_1 > 69 and result_1 < 80:\n",
    "        print(\"You Secure grade A\")\n",
    "        print(\"Your Total Marks is: \",result)\n",
    "        print(\"Your Percentage is: \",round (result_1,2),\"%\")\n",
    "    \n",
    "    elif result_1 > 59 and result_1 < 70:\n",
    "        print(\"You Secure grade B\")\n",
    "        print(\"Your Total Marks is: \",result)\n",
    "        print(\"Your Percentage is: \",round (result_1,2),\"%\")\n",
    "    \n",
    "    elif result_1 > 49 and result_1 < 60:\n",
    "        print(\"You Secure grade C\")\n",
    "        print(\"Your Total Marks is: \",result)\n",
    "        print(\"Your Percentage is: \",round (result_1,2),\"%\")\n",
    "    \n",
    "    elif result_1 > 39 and result_1 < 50:\n",
    "        print(\"You Secure grade D\")\n",
    "        print(\"Your Total Marks is: \",result)\n",
    "        print(\"Your Percentage is: \",round (result_1,2),\"%\")\n",
    "\n",
    "\n",
    "        \n",
    "else:\n",
    "    print(\"Please make sure your marks are valid try again\")"
   ]
  },
  {
   "cell_type": "code",
   "execution_count": 2,
   "metadata": {},
   "outputs": [
    {
     "name": "stdout",
     "output_type": "stream",
     "text": [
      "Enter Number:4\n",
      "Number  4  is Even\n"
     ]
    }
   ],
   "source": [
    "#question no 2:\n",
    "\n",
    "#Zeeshan Rizwan\n",
    "number = int(input(\"Enter Number:\"))\n",
    "if number%2 == 0:\n",
    "    print(\"Number \",number,\" is Even\")\n",
    "else:\n",
    "    print(\"Number \",number,\" is Odd\")"
   ]
  },
  {
   "cell_type": "code",
   "execution_count": 3,
   "metadata": {},
   "outputs": [
    {
     "name": "stdout",
     "output_type": "stream",
     "text": [
      "6\n"
     ]
    }
   ],
   "source": [
    "#question  no 3:\n",
    "\n",
    "#Zeeshan Rizwan\n",
    "\n",
    "n= [1,3,5,8,9,10]\n",
    "print(len(n))"
   ]
  },
  {
   "cell_type": "code",
   "execution_count": 4,
   "metadata": {},
   "outputs": [
    {
     "name": "stdout",
     "output_type": "stream",
     "text": [
      "9\n"
     ]
    }
   ],
   "source": [
    "#question no 4:\n",
    "\n",
    "#Zeeshan Rizwan\n",
    "\n",
    "num= [1,2,3]\n",
    "a=n[0]+n[1]+n[2]\n",
    "print(a)"
   ]
  },
  {
   "cell_type": "code",
   "execution_count": 5,
   "metadata": {},
   "outputs": [
    {
     "name": "stdout",
     "output_type": "stream",
     "text": [
      "16\n"
     ]
    }
   ],
   "source": [
    "#question no 5:\n",
    "\n",
    "#Zeeshan Rizwan\n",
    "a=[10,5,9,16]\n",
    "max_num=0\n",
    "for i in range(0,len(a)):\n",
    "    if max_num<a[i]:\n",
    "        max_num=a[i]\n",
    "        \n",
    "        \n",
    "print(max_num)"
   ]
  },
  {
   "cell_type": "code",
   "execution_count": 6,
   "metadata": {},
   "outputs": [
    {
     "name": "stdout",
     "output_type": "stream",
     "text": [
      "2\n",
      "4\n",
      "1\n",
      "4\n",
      "2\n"
     ]
    }
   ],
   "source": [
    "#question no 6:\n",
    "\n",
    "#Zeeshan Rizwan\n",
    "arr = [2,4,5,6,1,4,2,25,10,7,84]\n",
    "\n",
    "for i in range(0,len(arr)):\n",
    "    if arr[i] < 5:\n",
    "       print(arr[i])\n"
   ]
  }
 ],
 "metadata": {
  "kernelspec": {
   "display_name": "Python 3",
   "language": "python",
   "name": "python3"
  },
  "language_info": {
   "codemirror_mode": {
    "name": "ipython",
    "version": 3
   },
   "file_extension": ".py",
   "mimetype": "text/x-python",
   "name": "python",
   "nbconvert_exporter": "python",
   "pygments_lexer": "ipython3",
   "version": "3.7.4"
  }
 },
 "nbformat": 4,
 "nbformat_minor": 2
}
