{
 "cells": [
  {
   "cell_type": "code",
   "execution_count": 11,
   "metadata": {},
   "outputs": [
    {
     "name": "stdout",
     "output_type": "stream",
     "text": [
      "Select operation.\n",
      "1)Add\n",
      "2)Subtract\n",
      "3)Multiply\n",
      "4)Divide\n",
      "Enter choice : 2\n",
      "Enter first number: 15\n",
      "Enter second number: 9\n",
      "15 - 9 = 6\n"
     ]
    }
   ],
   "source": [
    "#Assignment no. 03\n",
    "\n",
    "#question no 1:\n",
    "\n",
    "\n",
    "def add(x, y):\n",
    "    return x + y\n",
    "\n",
    "def subtract(x, y):\n",
    "    return x - y\n",
    "\n",
    "def multiply(x, y):\n",
    "    return x * y\n",
    "\n",
    "def divide(x, y):\n",
    "    return x / y\n",
    "print(\"Select operation.\")\n",
    "print(\"1)Add\")\n",
    "print(\"2)Subtract\")\n",
    "print(\"3)Multiply\")\n",
    "print(\"4)Divide\")\n",
    "\n",
    "val = input(\"Enter choice : \")\n",
    "num1 = eval(input(\"Enter first number: \"))\n",
    "num2 = eval(input(\"Enter second number: \"))\n",
    "if val == '1':\n",
    "    print(num1,\"+\",num2,\"=\", add(num1,num2))\n",
    "elif val == '2':\n",
    "    print(num1,\"-\",num2,\"=\", subtract(num1,num2))\n",
    "elif val == '3':\n",
    "    print(num1,\"*\",num2,\"=\", multiply(num1,num2))\n",
    "elif val == '4':\n",
    "    print(num1,\"/\",num2,\"=\", divide(num1,num2))\n",
    "else:\n",
    "  print(\"plzz!! Enter Correct operator\")"
   ]
  },
  {
   "cell_type": "code",
   "execution_count": 2,
   "metadata": {},
   "outputs": [
    {
     "name": "stdout",
     "output_type": "stream",
     "text": [
      "['8', '2', '100', '4']\n"
     ]
    }
   ],
   "source": [
    "#question no 2:\n",
    "l=['8','Karachi','2','ZEESHAN','100','4']\n",
    "for var in l:\n",
    "    l =  [s for s in l if s.isdigit()]\n",
    "    \n",
    "print(l)"
   ]
  },
  {
   "cell_type": "code",
   "execution_count": 10,
   "metadata": {},
   "outputs": [
    {
     "name": "stdout",
     "output_type": "stream",
     "text": [
      "Enter the key (int) to be added:4\n",
      "Enter the value for the key to be added:5\n",
      "Updated dictionary is:\n",
      "{4: 5}\n"
     ]
    }
   ],
   "source": [
    "#question no 3:\n",
    "\n",
    "key = eval(input(\"Enter the key (int) to be added:\"))\n",
    "value = eval(input(\"Enter the value for the key to be added:\"))\n",
    "d = {}\n",
    "d.update({key:value})\n",
    "print(\"Updated dictionary is:\")\n",
    "print(d)\n",
    "\n"
   ]
  },
  {
   "cell_type": "code",
   "execution_count": 5,
   "metadata": {},
   "outputs": [
    {
     "name": "stdout",
     "output_type": "stream",
     "text": [
      "21\n"
     ]
    }
   ],
   "source": [
    "#question no 4:\n",
    "\n",
    "val= {'val1':2,'val2':9,'val3':10}\n",
    "print(sum(val.values()))"
   ]
  },
  {
   "cell_type": "code",
   "execution_count": 7,
   "metadata": {},
   "outputs": [
    {
     "name": "stdout",
     "output_type": "stream",
     "text": [
      "[30, 10]\n"
     ]
    }
   ],
   "source": [
    "#question no 5:\n",
    "\n",
    "check_dup = [ 10, 30, 30, 7, 3, 10, 15, 10, 45, 5, 12, ]\n",
    "dupItems = []\n",
    "uniqItems = {}\n",
    "for x in check_dup:\n",
    "   if x not in uniqItems:\n",
    "      uniqItems[x] = 1\n",
    "   else:\n",
    "      if uniqItems[x] == 1:\n",
    "         dupItems.append(x)\n",
    "      uniqItems[x] += 1\n",
    "print(dupItems)"
   ]
  },
  {
   "cell_type": "code",
   "execution_count": 8,
   "metadata": {},
   "outputs": [
    {
     "name": "stdout",
     "output_type": "stream",
     "text": [
      "Yes 'student' key exists in dictionary\n"
     ]
    }
   ],
   "source": [
    "#question no 6:\n",
    "\n",
    "student = {\"student_ID\": \"17b-066-CS \",\"Full Name\": \"Muhammad Zeeshan Nawaz\", \"department\": \"computer science\" }\n",
    "\n",
    "if \"student_ID\" in student:\n",
    "    print(\"Yes 'student' key exists in dictionary\")\n",
    "else:\n",
    "    print(\"No 'student' key does not exists in dictionary\")    "
   ]
  }
 ],
 "metadata": {
  "kernelspec": {
   "display_name": "Python 3",
   "language": "python",
   "name": "python3"
  },
  "language_info": {
   "codemirror_mode": {
    "name": "ipython",
    "version": 3
   },
   "file_extension": ".py",
   "mimetype": "text/x-python",
   "name": "python",
   "nbconvert_exporter": "python",
   "pygments_lexer": "ipython3",
   "version": "3.7.4"
  }
 },
 "nbformat": 4,
 "nbformat_minor": 2
}
